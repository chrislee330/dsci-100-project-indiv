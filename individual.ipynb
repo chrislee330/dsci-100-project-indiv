{
 "cells": [
  {
   "cell_type": "code",
   "execution_count": 1,
   "id": "6d61ec81-7c05-4471-9192-0e58cfd70e3a",
   "metadata": {},
   "outputs": [
    {
     "name": "stderr",
     "output_type": "stream",
     "text": [
      "── \u001b[1mAttaching core tidyverse packages\u001b[22m ──────────────────────── tidyverse 2.0.0 ──\n",
      "\u001b[32m✔\u001b[39m \u001b[34mdplyr    \u001b[39m 1.1.4     \u001b[32m✔\u001b[39m \u001b[34mreadr    \u001b[39m 2.1.5\n",
      "\u001b[32m✔\u001b[39m \u001b[34mforcats  \u001b[39m 1.0.0     \u001b[32m✔\u001b[39m \u001b[34mstringr  \u001b[39m 1.5.1\n",
      "\u001b[32m✔\u001b[39m \u001b[34mggplot2  \u001b[39m 3.5.1     \u001b[32m✔\u001b[39m \u001b[34mtibble   \u001b[39m 3.2.1\n",
      "\u001b[32m✔\u001b[39m \u001b[34mlubridate\u001b[39m 1.9.3     \u001b[32m✔\u001b[39m \u001b[34mtidyr    \u001b[39m 1.3.1\n",
      "\u001b[32m✔\u001b[39m \u001b[34mpurrr    \u001b[39m 1.0.2     \n",
      "── \u001b[1mConflicts\u001b[22m ────────────────────────────────────────── tidyverse_conflicts() ──\n",
      "\u001b[31m✖\u001b[39m \u001b[34mdplyr\u001b[39m::\u001b[32mfilter()\u001b[39m masks \u001b[34mstats\u001b[39m::filter()\n",
      "\u001b[31m✖\u001b[39m \u001b[34mdplyr\u001b[39m::\u001b[32mlag()\u001b[39m    masks \u001b[34mstats\u001b[39m::lag()\n",
      "\u001b[36mℹ\u001b[39m Use the conflicted package (\u001b[3m\u001b[34m<http://conflicted.r-lib.org/>\u001b[39m\u001b[23m) to force all conflicts to become errors\n"
     ]
    }
   ],
   "source": [
    "library(tidyverse)"
   ]
  },
  {
   "cell_type": "code",
   "execution_count": 2,
   "id": "39d6d86e-9450-44ea-9d60-42619bc9916f",
   "metadata": {},
   "outputs": [
    {
     "name": "stderr",
     "output_type": "stream",
     "text": [
      "\u001b[1mRows: \u001b[22m\u001b[34m196\u001b[39m \u001b[1mColumns: \u001b[22m\u001b[34m7\u001b[39m\n",
      "\u001b[36m──\u001b[39m \u001b[1mColumn specification\u001b[22m \u001b[36m────────────────────────────────────────────────────────\u001b[39m\n",
      "\u001b[1mDelimiter:\u001b[22m \",\"\n",
      "\u001b[31mchr\u001b[39m (4): experience, hashedEmail, name, gender\n",
      "\u001b[32mdbl\u001b[39m (2): played_hours, Age\n",
      "\u001b[33mlgl\u001b[39m (1): subscribe\n",
      "\n",
      "\u001b[36mℹ\u001b[39m Use `spec()` to retrieve the full column specification for this data.\n",
      "\u001b[36mℹ\u001b[39m Specify the column types or set `show_col_types = FALSE` to quiet this message.\n",
      "\u001b[1mRows: \u001b[22m\u001b[34m1535\u001b[39m \u001b[1mColumns: \u001b[22m\u001b[34m5\u001b[39m\n",
      "\u001b[36m──\u001b[39m \u001b[1mColumn specification\u001b[22m \u001b[36m────────────────────────────────────────────────────────\u001b[39m\n",
      "\u001b[1mDelimiter:\u001b[22m \",\"\n",
      "\u001b[31mchr\u001b[39m (3): hashedEmail, start_time, end_time\n",
      "\u001b[32mdbl\u001b[39m (2): original_start_time, original_end_time\n",
      "\n",
      "\u001b[36mℹ\u001b[39m Use `spec()` to retrieve the full column specification for this data.\n",
      "\u001b[36mℹ\u001b[39m Specify the column types or set `show_col_types = FALSE` to quiet this message.\n"
     ]
    }
   ],
   "source": [
    "# importing data\n",
    "player_data_url <- \"https://www.dropbox.com/scl/fi/q73bfuafs2iasichsn736/players.csv?rlkey=xjsen4ho5dcb37m197u57neal&st=fvpz66cq&dl=1\"\n",
    "session_data_url = \"https://www.dropbox.com/scl/fi/t6950eniqg71pxxwelyju/sessions.csv?rlkey=uj9mpdttf453ncujhj3yauymh&st=n53xekat&dl=1\"\n",
    "\n",
    "player_data <- read_csv(player_data_url)\n",
    "session_data <- read_csv(session_data_url)"
   ]
  },
  {
   "cell_type": "code",
   "execution_count": 3,
   "id": "f55adc0d-45b8-4062-a36c-8bbbedb281a2",
   "metadata": {
    "scrolled": true
   },
   "outputs": [
    {
     "data": {
      "text/html": [
       "<table class=\"dataframe\">\n",
       "<caption>A tibble: 6 × 7</caption>\n",
       "<thead>\n",
       "\t<tr><th scope=col>experience</th><th scope=col>subscribe</th><th scope=col>hashedEmail</th><th scope=col>played_hours</th><th scope=col>name</th><th scope=col>gender</th><th scope=col>Age</th></tr>\n",
       "\t<tr><th scope=col>&lt;chr&gt;</th><th scope=col>&lt;lgl&gt;</th><th scope=col>&lt;chr&gt;</th><th scope=col>&lt;dbl&gt;</th><th scope=col>&lt;chr&gt;</th><th scope=col>&lt;chr&gt;</th><th scope=col>&lt;dbl&gt;</th></tr>\n",
       "</thead>\n",
       "<tbody>\n",
       "\t<tr><td>Pro    </td><td> TRUE</td><td>f6daba428a5e19a3d47574858c13550499be23603422e6a0ee9728f8b53e192d</td><td>30.3</td><td>Morgan   </td><td>Male  </td><td> 9</td></tr>\n",
       "\t<tr><td>Veteran</td><td> TRUE</td><td>f3c813577c458ba0dfef80996f8f32c93b6e8af1fa939732842f2312358a88e9</td><td> 3.8</td><td>Christian</td><td>Male  </td><td>17</td></tr>\n",
       "\t<tr><td>Veteran</td><td>FALSE</td><td>b674dd7ee0d24096d1c019615ce4d12b20fcbff12d79d3c5a9d2118eb7ccbb28</td><td> 0.0</td><td>Blake    </td><td>Male  </td><td>17</td></tr>\n",
       "\t<tr><td>Amateur</td><td> TRUE</td><td>23fe711e0e3b77f1da7aa221ab1192afe21648d47d2b4fa7a5a659ff443a0eb5</td><td> 0.7</td><td>Flora    </td><td>Female</td><td>21</td></tr>\n",
       "\t<tr><td>Regular</td><td> TRUE</td><td>7dc01f10bf20671ecfccdac23812b1b415acd42c2147cb0af4d48fcce2420f3e</td><td> 0.1</td><td>Kylie    </td><td>Male  </td><td>21</td></tr>\n",
       "\t<tr><td>Amateur</td><td> TRUE</td><td>f58aad5996a435f16b0284a3b267f973f9af99e7a89bee0430055a44fa92f977</td><td> 0.0</td><td>Adrian   </td><td>Female</td><td>17</td></tr>\n",
       "</tbody>\n",
       "</table>\n"
      ],
      "text/latex": [
       "A tibble: 6 × 7\n",
       "\\begin{tabular}{lllllll}\n",
       " experience & subscribe & hashedEmail & played\\_hours & name & gender & Age\\\\\n",
       " <chr> & <lgl> & <chr> & <dbl> & <chr> & <chr> & <dbl>\\\\\n",
       "\\hline\n",
       "\t Pro     &  TRUE & f6daba428a5e19a3d47574858c13550499be23603422e6a0ee9728f8b53e192d & 30.3 & Morgan    & Male   &  9\\\\\n",
       "\t Veteran &  TRUE & f3c813577c458ba0dfef80996f8f32c93b6e8af1fa939732842f2312358a88e9 &  3.8 & Christian & Male   & 17\\\\\n",
       "\t Veteran & FALSE & b674dd7ee0d24096d1c019615ce4d12b20fcbff12d79d3c5a9d2118eb7ccbb28 &  0.0 & Blake     & Male   & 17\\\\\n",
       "\t Amateur &  TRUE & 23fe711e0e3b77f1da7aa221ab1192afe21648d47d2b4fa7a5a659ff443a0eb5 &  0.7 & Flora     & Female & 21\\\\\n",
       "\t Regular &  TRUE & 7dc01f10bf20671ecfccdac23812b1b415acd42c2147cb0af4d48fcce2420f3e &  0.1 & Kylie     & Male   & 21\\\\\n",
       "\t Amateur &  TRUE & f58aad5996a435f16b0284a3b267f973f9af99e7a89bee0430055a44fa92f977 &  0.0 & Adrian    & Female & 17\\\\\n",
       "\\end{tabular}\n"
      ],
      "text/markdown": [
       "\n",
       "A tibble: 6 × 7\n",
       "\n",
       "| experience &lt;chr&gt; | subscribe &lt;lgl&gt; | hashedEmail &lt;chr&gt; | played_hours &lt;dbl&gt; | name &lt;chr&gt; | gender &lt;chr&gt; | Age &lt;dbl&gt; |\n",
       "|---|---|---|---|---|---|---|\n",
       "| Pro     |  TRUE | f6daba428a5e19a3d47574858c13550499be23603422e6a0ee9728f8b53e192d | 30.3 | Morgan    | Male   |  9 |\n",
       "| Veteran |  TRUE | f3c813577c458ba0dfef80996f8f32c93b6e8af1fa939732842f2312358a88e9 |  3.8 | Christian | Male   | 17 |\n",
       "| Veteran | FALSE | b674dd7ee0d24096d1c019615ce4d12b20fcbff12d79d3c5a9d2118eb7ccbb28 |  0.0 | Blake     | Male   | 17 |\n",
       "| Amateur |  TRUE | 23fe711e0e3b77f1da7aa221ab1192afe21648d47d2b4fa7a5a659ff443a0eb5 |  0.7 | Flora     | Female | 21 |\n",
       "| Regular |  TRUE | 7dc01f10bf20671ecfccdac23812b1b415acd42c2147cb0af4d48fcce2420f3e |  0.1 | Kylie     | Male   | 21 |\n",
       "| Amateur |  TRUE | f58aad5996a435f16b0284a3b267f973f9af99e7a89bee0430055a44fa92f977 |  0.0 | Adrian    | Female | 17 |\n",
       "\n"
      ],
      "text/plain": [
       "  experience subscribe\n",
       "1 Pro         TRUE    \n",
       "2 Veteran     TRUE    \n",
       "3 Veteran    FALSE    \n",
       "4 Amateur     TRUE    \n",
       "5 Regular     TRUE    \n",
       "6 Amateur     TRUE    \n",
       "  hashedEmail                                                      played_hours\n",
       "1 f6daba428a5e19a3d47574858c13550499be23603422e6a0ee9728f8b53e192d 30.3        \n",
       "2 f3c813577c458ba0dfef80996f8f32c93b6e8af1fa939732842f2312358a88e9  3.8        \n",
       "3 b674dd7ee0d24096d1c019615ce4d12b20fcbff12d79d3c5a9d2118eb7ccbb28  0.0        \n",
       "4 23fe711e0e3b77f1da7aa221ab1192afe21648d47d2b4fa7a5a659ff443a0eb5  0.7        \n",
       "5 7dc01f10bf20671ecfccdac23812b1b415acd42c2147cb0af4d48fcce2420f3e  0.1        \n",
       "6 f58aad5996a435f16b0284a3b267f973f9af99e7a89bee0430055a44fa92f977  0.0        \n",
       "  name      gender Age\n",
       "1 Morgan    Male    9 \n",
       "2 Christian Male   17 \n",
       "3 Blake     Male   17 \n",
       "4 Flora     Female 21 \n",
       "5 Kylie     Male   21 \n",
       "6 Adrian    Female 17 "
      ]
     },
     "metadata": {},
     "output_type": "display_data"
    },
    {
     "data": {
      "text/plain": [
       "  experience        subscribe       hashedEmail         played_hours    \n",
       " Length:196         Mode :logical   Length:196         Min.   :  0.000  \n",
       " Class :character   FALSE:52        Class :character   1st Qu.:  0.000  \n",
       " Mode  :character   TRUE :144       Mode  :character   Median :  0.100  \n",
       "                                                       Mean   :  5.846  \n",
       "                                                       3rd Qu.:  0.600  \n",
       "                                                       Max.   :223.100  \n",
       "                                                                        \n",
       "     name              gender               Age       \n",
       " Length:196         Length:196         Min.   : 9.00  \n",
       " Class :character   Class :character   1st Qu.:17.00  \n",
       " Mode  :character   Mode  :character   Median :19.00  \n",
       "                                       Mean   :21.14  \n",
       "                                       3rd Qu.:22.75  \n",
       "                                       Max.   :58.00  \n",
       "                                       NA's   :2      "
      ]
     },
     "metadata": {},
     "output_type": "display_data"
    },
    {
     "data": {
      "text/html": [
       "7.38968692783432"
      ],
      "text/latex": [
       "7.38968692783432"
      ],
      "text/markdown": [
       "7.38968692783432"
      ],
      "text/plain": [
       "[1] 7.389687"
      ]
     },
     "metadata": {},
     "output_type": "display_data"
    },
    {
     "data": {
      "text/html": [
       "28.3573430760317"
      ],
      "text/latex": [
       "28.3573430760317"
      ],
      "text/markdown": [
       "28.3573430760317"
      ],
      "text/plain": [
       "[1] 28.35734"
      ]
     },
     "metadata": {},
     "output_type": "display_data"
    },
    {
     "data": {
      "text/plain": [
       "\n",
       "FALSE  TRUE \n",
       "   52   144 "
      ]
     },
     "metadata": {},
     "output_type": "display_data"
    },
    {
     "data": {
      "text/plain": [
       "\n",
       "          Agender            Female              Male        Non-binary \n",
       "                2                37               124                15 \n",
       "            Other Prefer not to say      Two-Spirited \n",
       "                1                11                 6 "
      ]
     },
     "metadata": {},
     "output_type": "display_data"
    },
    {
     "data": {
      "text/plain": [
       "\n",
       " Amateur Beginner      Pro  Regular  Veteran \n",
       "      63       35       14       36       48 "
      ]
     },
     "metadata": {},
     "output_type": "display_data"
    }
   ],
   "source": [
    "# Data Description For player.csv (player_data)\n",
    "\n",
    "# number of observations\n",
    "num_obs_player <- nrow(player_data) #196 obs\n",
    "\n",
    "# number of variables, name and type of variables, what the variables mean,\n",
    "head(player_data)\n",
    "\n",
    "#summary statistics\n",
    "summary(player_data)\n",
    "\n",
    "sd(player_data$Age, na.rm = TRUE)\n",
    "sd(player_data$played_hours)\n",
    "\n",
    "table(player_data$subscribe)\n",
    "table(player_data$gender)\n",
    "table(player_data$experience)"
   ]
  },
  {
   "cell_type": "markdown",
   "id": "f0c194b3-1672-40ca-a269-557654f7f097",
   "metadata": {},
   "source": [
    "**Data description for player.csv (player_data)**\n",
    "- Includes 196 observations, which means 196 unique players played on this Minecraft Server (PLAICraft)\n",
    "- Includes 7 variables:\n",
    "    1. `experience` (type **character**, one of):\n",
    "        - Information on that player's experience playing Minecraft\n",
    "            - 'Beginner'\n",
    "            - 'Amateur'\n",
    "            - 'Regular'\n",
    "            - 'Veteran'\n",
    "            - 'Pro'\n",
    "    2. `subscribe` (type **logical**, one of):\n",
    "      - Whether or not that player is subscribed\n",
    "          - TRUE\n",
    "          - FALSE\n",
    "    3. `hashedEmail` (type **character**):\n",
    "        - Represents the player's hashed email\n",
    "    4. `played_hours` (type **double**):\n",
    "        - Represents the player's total played hours on the server\n",
    "    5. `name` (type **character**):\n",
    "        - Represents the player's name\n",
    "    6. `gender` (type **character**, one of):\n",
    "        - Represents the player's gender\n",
    "            - 'Male'\n",
    "            - 'Female'\n",
    "            - 'Non-binary'\n",
    "            - 'Prefer not to say'\n",
    "            - 'Agender'\n",
    "            - 'Two-Spirited'\n",
    "            - 'Other'\n",
    "    7. `Age` (type **double**):\n",
    "        - Represents the player's age\n",
    "- Summary Statistics:\n",
    "    - `Age` ranges from 9.00 to 58.00 years (mean = 21.14, median = 19.00, standard deviation = 7.39)\n",
    "    - `played_hours` ranges from 0.00 to 223.10 hours (mean = 5.85, median = 0.10, standard deviation = 28.36)\n",
    "    - Majority of the player's `gender` are 'Male' (124 out of 196)\n",
    "    - Majority of the players's `experience` are 'Amateur' (63 players)\n",
    "    - Majority of the players are subscribed (144 out of 196)\n",
    "- Issues identified about the dataset:\n",
    "    - There are 2 missing values in `Age`\n",
    "    - It is not known:\n",
    "        - how the data were collected\n",
    "        - if it includes every player in a population or just a sample\n",
    "  "
   ]
  },
  {
   "cell_type": "markdown",
   "id": "759b6697-0b7a-4c14-9ed7-986211ec0e3f",
   "metadata": {},
   "source": [
    "**Questions:**\n",
    "\n",
    "Broad Question: What player characteristics and behaviours are most predictive of subscribing to a game-related newsletter, and how do these features differ between various player types?\n",
    "\n",
    "My Question: Can the player's experience, gender, age, and played hours predict whether the player will `subscribe` in the player_data dataset?\n",
    "\n",
    "This dataset (player_data) contains many variables (player's experience, gender, age, and played hours) that can be used to predict a player's subscription status. Additionally, these variables provide predictor features (`experience`, `gender`, `Age`, `played_hours`) and target variable (`subscribe`) which means it can be used to build a classification model.\n",
    "\n",
    "Plan for wrangling data:\n",
    "- Since I only need `experience`, `gender`, `Age`, `played_hours`, `subscribe` variables, I can remove irrelevant variables (`name`, `hashedEmail`)\n",
    "- Handle the missing values in `Age`\n",
    "- Standardize ...\n",
    "\n",
    "After cleaning the data, I can apply a classification method to predict `subscribe` based off the player's demographic features.\n"
   ]
  },
  {
   "cell_type": "code",
   "execution_count": 4,
   "id": "85d24237-6e9f-4ea6-bbc1-2496935a3953",
   "metadata": {
    "jupyter": {
     "source_hidden": true
    }
   },
   "outputs": [
    {
     "data": {
      "text/html": [
       "<table class=\"dataframe\">\n",
       "<caption>A tibble: 6 × 7</caption>\n",
       "<thead>\n",
       "\t<tr><th scope=col>experience</th><th scope=col>subscribe</th><th scope=col>hashedEmail</th><th scope=col>played_hours</th><th scope=col>name</th><th scope=col>gender</th><th scope=col>Age</th></tr>\n",
       "\t<tr><th scope=col>&lt;chr&gt;</th><th scope=col>&lt;lgl&gt;</th><th scope=col>&lt;chr&gt;</th><th scope=col>&lt;dbl&gt;</th><th scope=col>&lt;chr&gt;</th><th scope=col>&lt;chr&gt;</th><th scope=col>&lt;dbl&gt;</th></tr>\n",
       "</thead>\n",
       "<tbody>\n",
       "\t<tr><td>Pro    </td><td> TRUE</td><td>f6daba428a5e19a3d47574858c13550499be23603422e6a0ee9728f8b53e192d</td><td>30.3</td><td>Morgan   </td><td>Male  </td><td> 9</td></tr>\n",
       "\t<tr><td>Veteran</td><td> TRUE</td><td>f3c813577c458ba0dfef80996f8f32c93b6e8af1fa939732842f2312358a88e9</td><td> 3.8</td><td>Christian</td><td>Male  </td><td>17</td></tr>\n",
       "\t<tr><td>Veteran</td><td>FALSE</td><td>b674dd7ee0d24096d1c019615ce4d12b20fcbff12d79d3c5a9d2118eb7ccbb28</td><td> 0.0</td><td>Blake    </td><td>Male  </td><td>17</td></tr>\n",
       "\t<tr><td>Amateur</td><td> TRUE</td><td>23fe711e0e3b77f1da7aa221ab1192afe21648d47d2b4fa7a5a659ff443a0eb5</td><td> 0.7</td><td>Flora    </td><td>Female</td><td>21</td></tr>\n",
       "\t<tr><td>Regular</td><td> TRUE</td><td>7dc01f10bf20671ecfccdac23812b1b415acd42c2147cb0af4d48fcce2420f3e</td><td> 0.1</td><td>Kylie    </td><td>Male  </td><td>21</td></tr>\n",
       "\t<tr><td>Amateur</td><td> TRUE</td><td>f58aad5996a435f16b0284a3b267f973f9af99e7a89bee0430055a44fa92f977</td><td> 0.0</td><td>Adrian   </td><td>Female</td><td>17</td></tr>\n",
       "</tbody>\n",
       "</table>\n"
      ],
      "text/latex": [
       "A tibble: 6 × 7\n",
       "\\begin{tabular}{lllllll}\n",
       " experience & subscribe & hashedEmail & played\\_hours & name & gender & Age\\\\\n",
       " <chr> & <lgl> & <chr> & <dbl> & <chr> & <chr> & <dbl>\\\\\n",
       "\\hline\n",
       "\t Pro     &  TRUE & f6daba428a5e19a3d47574858c13550499be23603422e6a0ee9728f8b53e192d & 30.3 & Morgan    & Male   &  9\\\\\n",
       "\t Veteran &  TRUE & f3c813577c458ba0dfef80996f8f32c93b6e8af1fa939732842f2312358a88e9 &  3.8 & Christian & Male   & 17\\\\\n",
       "\t Veteran & FALSE & b674dd7ee0d24096d1c019615ce4d12b20fcbff12d79d3c5a9d2118eb7ccbb28 &  0.0 & Blake     & Male   & 17\\\\\n",
       "\t Amateur &  TRUE & 23fe711e0e3b77f1da7aa221ab1192afe21648d47d2b4fa7a5a659ff443a0eb5 &  0.7 & Flora     & Female & 21\\\\\n",
       "\t Regular &  TRUE & 7dc01f10bf20671ecfccdac23812b1b415acd42c2147cb0af4d48fcce2420f3e &  0.1 & Kylie     & Male   & 21\\\\\n",
       "\t Amateur &  TRUE & f58aad5996a435f16b0284a3b267f973f9af99e7a89bee0430055a44fa92f977 &  0.0 & Adrian    & Female & 17\\\\\n",
       "\\end{tabular}\n"
      ],
      "text/markdown": [
       "\n",
       "A tibble: 6 × 7\n",
       "\n",
       "| experience &lt;chr&gt; | subscribe &lt;lgl&gt; | hashedEmail &lt;chr&gt; | played_hours &lt;dbl&gt; | name &lt;chr&gt; | gender &lt;chr&gt; | Age &lt;dbl&gt; |\n",
       "|---|---|---|---|---|---|---|\n",
       "| Pro     |  TRUE | f6daba428a5e19a3d47574858c13550499be23603422e6a0ee9728f8b53e192d | 30.3 | Morgan    | Male   |  9 |\n",
       "| Veteran |  TRUE | f3c813577c458ba0dfef80996f8f32c93b6e8af1fa939732842f2312358a88e9 |  3.8 | Christian | Male   | 17 |\n",
       "| Veteran | FALSE | b674dd7ee0d24096d1c019615ce4d12b20fcbff12d79d3c5a9d2118eb7ccbb28 |  0.0 | Blake     | Male   | 17 |\n",
       "| Amateur |  TRUE | 23fe711e0e3b77f1da7aa221ab1192afe21648d47d2b4fa7a5a659ff443a0eb5 |  0.7 | Flora     | Female | 21 |\n",
       "| Regular |  TRUE | 7dc01f10bf20671ecfccdac23812b1b415acd42c2147cb0af4d48fcce2420f3e |  0.1 | Kylie     | Male   | 21 |\n",
       "| Amateur |  TRUE | f58aad5996a435f16b0284a3b267f973f9af99e7a89bee0430055a44fa92f977 |  0.0 | Adrian    | Female | 17 |\n",
       "\n"
      ],
      "text/plain": [
       "  experience subscribe\n",
       "1 Pro         TRUE    \n",
       "2 Veteran     TRUE    \n",
       "3 Veteran    FALSE    \n",
       "4 Amateur     TRUE    \n",
       "5 Regular     TRUE    \n",
       "6 Amateur     TRUE    \n",
       "  hashedEmail                                                      played_hours\n",
       "1 f6daba428a5e19a3d47574858c13550499be23603422e6a0ee9728f8b53e192d 30.3        \n",
       "2 f3c813577c458ba0dfef80996f8f32c93b6e8af1fa939732842f2312358a88e9  3.8        \n",
       "3 b674dd7ee0d24096d1c019615ce4d12b20fcbff12d79d3c5a9d2118eb7ccbb28  0.0        \n",
       "4 23fe711e0e3b77f1da7aa221ab1192afe21648d47d2b4fa7a5a659ff443a0eb5  0.7        \n",
       "5 7dc01f10bf20671ecfccdac23812b1b415acd42c2147cb0af4d48fcce2420f3e  0.1        \n",
       "6 f58aad5996a435f16b0284a3b267f973f9af99e7a89bee0430055a44fa92f977  0.0        \n",
       "  name      gender Age\n",
       "1 Morgan    Male    9 \n",
       "2 Christian Male   17 \n",
       "3 Blake     Male   17 \n",
       "4 Flora     Female 21 \n",
       "5 Kylie     Male   21 \n",
       "6 Adrian    Female 17 "
      ]
     },
     "metadata": {},
     "output_type": "display_data"
    },
    {
     "data": {
      "text/plain": [
       "\n",
       "          Agender            Female              Male        Non-binary \n",
       "                2                37               124                15 \n",
       "            Other Prefer not to say      Two-Spirited \n",
       "                1                11                 6 "
      ]
     },
     "metadata": {},
     "output_type": "display_data"
    },
    {
     "data": {
      "text/html": [
       "<style>\n",
       ".list-inline {list-style: none; margin:0; padding: 0}\n",
       ".list-inline>li {display: inline-block}\n",
       ".list-inline>li:not(:last-child)::after {content: \"\\00b7\"; padding: 0 .5ex}\n",
       "</style>\n",
       "<ol class=list-inline><li>9</li><li>17</li><li>21</li><li>19</li><li>47</li><li>22</li><li>23</li><li>25</li><li>58</li><li>28</li><li>18</li><li>33</li><li>26</li><li>20</li><li>24</li><li>27</li><li>42</li><li>11</li><li>10</li><li>38</li><li>14</li><li>15</li><li>37</li><li>16</li><li>12</li><li>46</li><li>32</li><li>49</li><li>45</li><li>&lt;NA&gt;</li><li>50</li><li>44</li><li>57</li></ol>\n"
      ],
      "text/latex": [
       "\\begin{enumerate*}\n",
       "\\item 9\n",
       "\\item 17\n",
       "\\item 21\n",
       "\\item 19\n",
       "\\item 47\n",
       "\\item 22\n",
       "\\item 23\n",
       "\\item 25\n",
       "\\item 58\n",
       "\\item 28\n",
       "\\item 18\n",
       "\\item 33\n",
       "\\item 26\n",
       "\\item 20\n",
       "\\item 24\n",
       "\\item 27\n",
       "\\item 42\n",
       "\\item 11\n",
       "\\item 10\n",
       "\\item 38\n",
       "\\item 14\n",
       "\\item 15\n",
       "\\item 37\n",
       "\\item 16\n",
       "\\item 12\n",
       "\\item 46\n",
       "\\item 32\n",
       "\\item 49\n",
       "\\item 45\n",
       "\\item <NA>\n",
       "\\item 50\n",
       "\\item 44\n",
       "\\item 57\n",
       "\\end{enumerate*}\n"
      ],
      "text/markdown": [
       "1. 9\n",
       "2. 17\n",
       "3. 21\n",
       "4. 19\n",
       "5. 47\n",
       "6. 22\n",
       "7. 23\n",
       "8. 25\n",
       "9. 58\n",
       "10. 28\n",
       "11. 18\n",
       "12. 33\n",
       "13. 26\n",
       "14. 20\n",
       "15. 24\n",
       "16. 27\n",
       "17. 42\n",
       "18. 11\n",
       "19. 10\n",
       "20. 38\n",
       "21. 14\n",
       "22. 15\n",
       "23. 37\n",
       "24. 16\n",
       "25. 12\n",
       "26. 46\n",
       "27. 32\n",
       "28. 49\n",
       "29. 45\n",
       "30. &lt;NA&gt;\n",
       "31. 50\n",
       "32. 44\n",
       "33. 57\n",
       "\n",
       "\n"
      ],
      "text/plain": [
       " [1]  9 17 21 19 47 22 23 25 58 28 18 33 26 20 24 27 42 11 10 38 14 15 37 16 12\n",
       "[26] 46 32 49 45 NA 50 44 57"
      ]
     },
     "metadata": {},
     "output_type": "display_data"
    },
    {
     "data": {
      "text/plain": [
       "  experience        subscribe       hashedEmail         played_hours   \n",
       " Length:196         Mode :logical   Length:196         Min.   :  0.00  \n",
       " Class :character   FALSE:52        Class :character   1st Qu.:  0.00  \n",
       " Mode  :character   TRUE :144       Mode  :character   Median :  0.10  \n",
       "                                                       Mean   :  5.85  \n",
       "                                                       3rd Qu.:  0.60  \n",
       "                                                       Max.   :223.10  \n",
       "                                                                       \n",
       "     name              gender               Age      \n",
       " Length:196         Length:196         Min.   : 9.0  \n",
       " Class :character   Class :character   1st Qu.:17.0  \n",
       " Mode  :character   Mode  :character   Median :19.0  \n",
       "                                       Mean   :21.1  \n",
       "                                       3rd Qu.:22.8  \n",
       "                                       Max.   :58.0  \n",
       "                                       NA's   :2     "
      ]
     },
     "metadata": {},
     "output_type": "display_data"
    },
    {
     "name": "stderr",
     "output_type": "stream",
     "text": [
      "Warning message:\n",
      "“\u001b[1m\u001b[22mThere were 2 warnings in `mutate()`.\n",
      "The first warning was:\n",
      "\u001b[1m\u001b[22m\u001b[36mℹ\u001b[39m In argument: `-...`.\n",
      "Caused by warning:\n",
      "\u001b[33m!\u001b[39m NAs introduced by coercion\n",
      "\u001b[1m\u001b[22m\u001b[36mℹ\u001b[39m Run `dplyr::last_dplyr_warnings()` to see the 1 remaining warning.”\n"
     ]
    }
   ],
   "source": [
    "# Data Description For player.csv\n",
    "\n",
    "# number of observations\n",
    "num_obs_player <- nrow(player_data) #196 obs\n",
    "num_obs_session <- nrow(session_data) #1535 obs\n",
    "\n",
    "# number of variables, name and type of variables, what the variables mean,\n",
    "head(player_data)\n",
    "table(player_data$gender)\n",
    "unique(player_data$Age)\n",
    "#summary statistics\n",
    "player_data_summary <- summary(player_data, digits = 3)\n",
    "session_data_summary <- summary(session_data, digits = 3)\n",
    "player_data_summary\n",
    "#session_data_summary\n",
    "\n",
    "test <- session_data |>\n",
    "    mutate(new = (original_end_time - original_start_time))\n",
    "#test\n",
    "player_data_select <- player_data |>\n",
    "    select(experience, played_hours, gender, Age)\n",
    "#player_data_select\n",
    "session_data_mutated <- session_data |>\n",
    "    mutate(\"time_played\", as.integer(substring(end_time, 11, 16)) - as.integer(substring(start_time, 11, 16)))\n",
    "#sessions_data_mutated\n"
   ]
  },
  {
   "cell_type": "code",
   "execution_count": null,
   "id": "a853ac56-d107-4e6d-8409-b4fe61522947",
   "metadata": {},
   "outputs": [],
   "source": []
  }
 ],
 "metadata": {
  "kernelspec": {
   "display_name": "R",
   "language": "R",
   "name": "ir"
  },
  "language_info": {
   "codemirror_mode": "r",
   "file_extension": ".r",
   "mimetype": "text/x-r-source",
   "name": "R",
   "pygments_lexer": "r",
   "version": "4.3.3"
  }
 },
 "nbformat": 4,
 "nbformat_minor": 5
}
